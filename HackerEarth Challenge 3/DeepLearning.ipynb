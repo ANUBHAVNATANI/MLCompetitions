{
 "cells": [
  {
   "cell_type": "code",
   "execution_count": 1,
   "metadata": {},
   "outputs": [
    {
     "name": "stderr",
     "output_type": "stream",
     "text": [
      "Using TensorFlow backend.\n"
     ]
    }
   ],
   "source": [
    "import tensorflow as tf\n",
    "from tensorflow import keras\n",
    "import numpy as np\n",
    "import pandas as pd\n",
    "from keras.preprocessing.text import Tokenizer\n",
    "from sklearn.preprocessing import LabelBinarizer\n",
    "from keras.preprocessing.sequence import pad_sequences\n",
    "from keras.models import Sequential\n",
    "from keras.layers import Dense, Flatten, LSTM, Conv1D, GlobalMaxPooling1D, Dropout, Activation\n",
    "from keras.layers.embeddings import Embedding\n",
    "from keras.preprocessing import sequence\n",
    "from keras.callbacks import EarlyStopping"
   ]
  },
  {
   "cell_type": "code",
   "execution_count": 2,
   "metadata": {},
   "outputs": [],
   "source": [
    "train_data = pd.read_csv('changed_train.csv')\n",
    "test_data = pd.read_csv('changed_test.csv')"
   ]
  },
  {
   "cell_type": "code",
   "execution_count": 3,
   "metadata": {},
   "outputs": [],
   "source": [
    "train_y = train_data.MaterialType"
   ]
  },
  {
   "cell_type": "code",
   "execution_count": 4,
   "metadata": {},
   "outputs": [],
   "source": [
    "train_X = train_data[['Title','Subjects']]"
   ]
  },
  {
   "cell_type": "code",
   "execution_count": 5,
   "metadata": {},
   "outputs": [],
   "source": [
    "test_X = test_data[['Title','Subjects']]"
   ]
  },
  {
   "cell_type": "code",
   "execution_count": 6,
   "metadata": {},
   "outputs": [],
   "source": [
    "train_X = train_X.fillna('unknown')"
   ]
  },
  {
   "cell_type": "code",
   "execution_count": 7,
   "metadata": {},
   "outputs": [],
   "source": [
    "test_X = test_X.fillna('unknown')"
   ]
  },
  {
   "cell_type": "code",
   "execution_count": 34,
   "metadata": {},
   "outputs": [],
   "source": [
    "num_labels = 8\n",
    "vocab_size = 5000\n",
    "batch_size = 64"
   ]
  },
  {
   "cell_type": "code",
   "execution_count": 35,
   "metadata": {},
   "outputs": [],
   "source": [
    "train_X_arr = train_X.Title+\" \"+train_X.Subjects\n",
    "test_X_arr = test_X.Title+\" \"+test_X.Subjects\n",
    "train_X_arr = train_X_arr.values\n",
    "test_X_arr = test_X_arr.values"
   ]
  },
  {
   "cell_type": "code",
   "execution_count": 36,
   "metadata": {},
   "outputs": [],
   "source": [
    "seq = np.hstack((train_X_arr, test_X_arr))"
   ]
  },
  {
   "cell_type": "code",
   "execution_count": 37,
   "metadata": {},
   "outputs": [],
   "source": [
    "tokn = Tokenizer(num_words=vocab_size)\n",
    "tokn.fit_on_texts(seq)"
   ]
  },
  {
   "cell_type": "code",
   "execution_count": 38,
   "metadata": {},
   "outputs": [
    {
     "name": "stdout",
     "output_type": "stream",
     "text": [
      "[2943, 4, 8]\n",
      "[   0    0    0    0    0    0    0    0    0    0    0    0    0    0\n",
      "    0    0    0    0    0    0    0    0    0    0    0    0    0    0\n",
      "    0    0    0    0    0    0    0    0    0 2943    4    8]\n",
      "(31653, 40)\n"
     ]
    }
   ],
   "source": [
    "max_len = 40\n",
    "cnn_texts_seq = tokn.texts_to_sequences(train_X_arr)\n",
    "print(cnn_texts_seq[0])\n",
    "cnn_texts_mat = sequence.pad_sequences(cnn_texts_seq,maxlen=max_len)\n",
    "print(cnn_texts_mat[0])\n",
    "print(cnn_texts_mat.shape)"
   ]
  },
  {
   "cell_type": "code",
   "execution_count": 39,
   "metadata": {},
   "outputs": [
    {
     "name": "stdout",
     "output_type": "stream",
     "text": [
      "[2943, 4, 8]\n",
      "[   0    0    0    0    0    0    0    0    0    0    0    0    0    0\n",
      "    0    0    0    0    0    0    0    0    0    0    0    0    0    0\n",
      "    0    0    0  125    2 2471   44    1  313    3  124    1]\n",
      "(21102, 40)\n"
     ]
    }
   ],
   "source": [
    "max_len = 40\n",
    "cnn_texts_seqo = tokn.texts_to_sequences(test_X_arr)\n",
    "print(cnn_texts_seq[0])\n",
    "cnn_texts_mato = sequence.pad_sequences(cnn_texts_seqo,maxlen=max_len)\n",
    "print(cnn_texts_mato[0])\n",
    "print(cnn_texts_mato.shape)"
   ]
  },
  {
   "cell_type": "code",
   "execution_count": 40,
   "metadata": {},
   "outputs": [
    {
     "data": {
      "text/plain": [
       "LabelBinarizer(neg_label=0, pos_label=1, sparse_output=False)"
      ]
     },
     "execution_count": 40,
     "metadata": {},
     "output_type": "execute_result"
    }
   ],
   "source": [
    "encoder = LabelBinarizer()\n",
    "encoder.fit(train_y)"
   ]
  },
  {
   "cell_type": "code",
   "execution_count": 41,
   "metadata": {},
   "outputs": [],
   "source": [
    "y_train = encoder.transform(train_y)"
   ]
  },
  {
   "cell_type": "code",
   "execution_count": 42,
   "metadata": {},
   "outputs": [],
   "source": [
    "def f2_score(y_true, y_pred):\n",
    "    y_true = tf.cast(y_true, \"int32\")\n",
    "    y_pred = tf.cast(tf.round(y_pred), \"int32\") # implicit 0.5 threshold via tf.round\n",
    "    y_correct = y_true * y_pred\n",
    "    sum_true = tf.reduce_sum(y_true, axis=1)\n",
    "    sum_pred = tf.reduce_sum(y_pred, axis=1)\n",
    "    sum_correct = tf.reduce_sum(y_correct, axis=1)\n",
    "    precision = sum_correct / sum_pred\n",
    "    recall = sum_correct / sum_true\n",
    "    f_score = 5 * precision * recall / (4 * precision + recall)\n",
    "    f_score = tf.where(tf.is_nan(f_score), tf.zeros_like(f_score), f_score)\n",
    "    return tf.reduce_mean(f_score)"
   ]
  },
  {
   "cell_type": "code",
   "execution_count": null,
   "metadata": {},
   "outputs": [
    {
     "name": "stdout",
     "output_type": "stream",
     "text": [
      "_________________________________________________________________\n",
      "Layer (type)                 Output Shape              Param #   \n",
      "=================================================================\n",
      "embedding_10 (Embedding)     (None, 40, 50)            250000    \n",
      "_________________________________________________________________\n",
      "dropout_22 (Dropout)         (None, 40, 50)            0         \n",
      "_________________________________________________________________\n",
      "conv1d_18 (Conv1D)           (None, 38, 256)           38656     \n",
      "_________________________________________________________________\n",
      "conv1d_19 (Conv1D)           (None, 36, 128)           98432     \n",
      "_________________________________________________________________\n",
      "global_max_pooling1d_10 (Glo (None, 128)               0         \n",
      "_________________________________________________________________\n",
      "dense_21 (Dense)             (None, 128)               16512     \n",
      "_________________________________________________________________\n",
      "dropout_23 (Dropout)         (None, 128)               0         \n",
      "_________________________________________________________________\n",
      "activation_21 (Activation)   (None, 128)               0         \n",
      "_________________________________________________________________\n",
      "dense_22 (Dense)             (None, 64)                8256      \n",
      "_________________________________________________________________\n",
      "dropout_24 (Dropout)         (None, 64)                0         \n",
      "_________________________________________________________________\n",
      "activation_22 (Activation)   (None, 64)                0         \n",
      "_________________________________________________________________\n",
      "dense_23 (Dense)             (None, 8)                 520       \n",
      "_________________________________________________________________\n",
      "activation_23 (Activation)   (None, 8)                 0         \n",
      "=================================================================\n",
      "Total params: 412,376\n",
      "Trainable params: 412,376\n",
      "Non-trainable params: 0\n",
      "_________________________________________________________________\n",
      "Train on 25322 samples, validate on 6331 samples\n",
      "Epoch 1/20\n",
      "25322/25322 [==============================] - 19s 764us/step - loss: 0.7194 - f2_score: 0.7304 - val_loss: 0.4581 - val_f2_score: 0.8447\n",
      "Epoch 2/20\n",
      "25322/25322 [==============================] - 22s 874us/step - loss: 0.4697 - f2_score: 0.8321 - val_loss: 0.4152 - val_f2_score: 0.8591\n",
      "Epoch 3/20\n",
      "25322/25322 [==============================] - 20s 802us/step - loss: 0.3986 - f2_score: 0.8495 - val_loss: 0.4300 - val_f2_score: 0.8650\n",
      "Epoch 4/20\n",
      "25322/25322 [==============================] - 20s 806us/step - loss: 0.3578 - f2_score: 0.8591 - val_loss: 0.4305 - val_f2_score: 0.8604\n",
      "Epoch 5/20\n",
      "25322/25322 [==============================] - 20s 809us/step - loss: 0.3235 - f2_score: 0.8694 - val_loss: 0.4640 - val_f2_score: 0.8659\n",
      "Epoch 6/20\n",
      "25322/25322 [==============================] - 20s 804us/step - loss: 0.3018 - f2_score: 0.8729 - val_loss: 0.5054 - val_f2_score: 0.8597\n",
      "Epoch 7/20\n",
      "25322/25322 [==============================] - 20s 804us/step - loss: 0.2791 - f2_score: 0.8795 - val_loss: 0.5565 - val_f2_score: 0.8661\n",
      "Epoch 8/20\n",
      "25322/25322 [==============================] - 21s 828us/step - loss: 0.2622 - f2_score: 0.8848 - val_loss: 0.5683 - val_f2_score: 0.8479\n",
      "Epoch 9/20\n",
      "25322/25322 [==============================] - 21s 839us/step - loss: 0.2428 - f2_score: 0.8924 - val_loss: 0.5944 - val_f2_score: 0.8504\n",
      "Epoch 10/20\n",
      "25322/25322 [==============================] - 21s 846us/step - loss: 0.2335 - f2_score: 0.8955 - val_loss: 0.6407 - val_f2_score: 0.8545\n",
      "Epoch 11/20\n",
      "25322/25322 [==============================] - 20s 798us/step - loss: 0.2177 - f2_score: 0.9009 - val_loss: 0.6753 - val_f2_score: 0.8586\n",
      "Epoch 12/20\n",
      " 6048/25322 [======>.......................] - ETA: 14s - loss: 0.1980 - f2_score: 0.9120"
     ]
    }
   ],
   "source": [
    "def cnn_model():\n",
    "    model = Sequential()\n",
    "    model.add(Embedding(5000,50,input_length=max_len))\n",
    "    model.add(Dropout(0.4))\n",
    "    model.add(Conv1D(256,3,padding='valid',activation='relu',strides=1))\n",
    "    model.add(Conv1D(128,3,padding='valid',activation='relu',strides=1))\n",
    "    model.add(GlobalMaxPooling1D())\n",
    "    model.add(Dense(128))\n",
    "    model.add(Dropout(0.5))\n",
    "    model.add(Activation('relu'))\n",
    "    model.add(Dense(64))\n",
    "    model.add(Dropout(0.5))\n",
    "    model.add(Activation('relu'))\n",
    "    model.add(Dense(8))\n",
    "    model.add(Activation('softmax'))\n",
    "    model.summary()\n",
    "    model.compile(loss='categorical_crossentropy',\n",
    "                  optimizer='adam',\n",
    "                  metrics=[f2_score])\n",
    "    return model\n",
    "\n",
    "def check_model(model,x,y):\n",
    "    es = EarlyStopping(monitor='val_loss', mode='min', verbose=1,restore_best_weights=True,patience=10)\n",
    "    model.fit(x,y,batch_size=32,epochs=20,verbose=1,validation_split=0.2,callbacks=[es])\n",
    "\n",
    "\n",
    "m = cnn_model()\n",
    "check_model(m,cnn_texts_mat,y_train)"
   ]
  },
  {
   "cell_type": "code",
   "execution_count": 41,
   "metadata": {},
   "outputs": [],
   "source": [
    "def old_model():\n",
    "    model = Sequential()\n",
    "    model.add(Dense(512, input_shape=(vocab_size,)))\n",
    "    model.add(Activation('relu'))\n",
    "    model.add(Dropout(0.5))\n",
    "    model.add(Dense(256))\n",
    "    model.add(Activation('relu'))\n",
    "    model.add(Dropout(0.5))\n",
    "    model.add(Dense(128))\n",
    "    model.add(Activation('relu'))\n",
    "    model.add(Dropout(0.5))\n",
    "    model.add(Dense(64))\n",
    "    model.add(Activation('relu'))\n",
    "    model.add(Dropout(0.5))\n",
    "    model.add(Dense(32))\n",
    "    model.add(Activation('relu'))\n",
    "    model.add(Dropout(0.5))\n",
    "    model.add(Dense(num_labels))\n",
    "    model.add(Activation('softmax'))\n",
    "    model.summary()\n",
    "\n",
    "    model.compile(loss='categorical_crossentropy',\n",
    "                  optimizer='adam',\n",
    "                  metrics=[f2_score])\n",
    "\n",
    "    history = model.fit(x_train, y_train,\n",
    "                        batch_size=batch_size,\n",
    "                        epochs=5,\n",
    "                        verbose=1,\n",
    "                        validation_split=0.1)"
   ]
  },
  {
   "cell_type": "code",
   "execution_count": 31,
   "metadata": {},
   "outputs": [],
   "source": [
    "y_pred = m.predict(cnn_texts_mato)"
   ]
  },
  {
   "cell_type": "code",
   "execution_count": 32,
   "metadata": {},
   "outputs": [],
   "source": [
    "new_y_pred = np.argmax(y_pred, axis=1)"
   ]
  },
  {
   "cell_type": "code",
   "execution_count": 33,
   "metadata": {},
   "outputs": [],
   "source": [
    "t_E = encoder.classes_\n",
    "c = t_E[new_y_pred]\n",
    "test_set = pd.read_csv('test_file.csv')\n",
    "new_df = pd.DataFrame({\"ID\":test_set[\"ID\"],\"MaterialType\":c})\n",
    "new_df=new_df.set_index(\"ID\")\n",
    "new_df.to_csv(\"submission_18.csv\")"
   ]
  },
  {
   "cell_type": "code",
   "execution_count": null,
   "metadata": {},
   "outputs": [],
   "source": []
  },
  {
   "cell_type": "code",
   "execution_count": 29,
   "metadata": {},
   "outputs": [],
   "source": []
  },
  {
   "cell_type": "code",
   "execution_count": null,
   "metadata": {},
   "outputs": [],
   "source": []
  },
  {
   "cell_type": "code",
   "execution_count": null,
   "metadata": {},
   "outputs": [],
   "source": []
  },
  {
   "cell_type": "code",
   "execution_count": null,
   "metadata": {},
   "outputs": [],
   "source": []
  },
  {
   "cell_type": "code",
   "execution_count": null,
   "metadata": {},
   "outputs": [],
   "source": []
  },
  {
   "cell_type": "code",
   "execution_count": 36,
   "metadata": {},
   "outputs": [],
   "source": []
  },
  {
   "cell_type": "code",
   "execution_count": null,
   "metadata": {},
   "outputs": [],
   "source": []
  }
 ],
 "metadata": {
  "kernelspec": {
   "display_name": "Python 3",
   "language": "python",
   "name": "python3"
  },
  "language_info": {
   "codemirror_mode": {
    "name": "ipython",
    "version": 3
   },
   "file_extension": ".py",
   "mimetype": "text/x-python",
   "name": "python",
   "nbconvert_exporter": "python",
   "pygments_lexer": "ipython3",
   "version": "3.6.8"
  }
 },
 "nbformat": 4,
 "nbformat_minor": 2
}
