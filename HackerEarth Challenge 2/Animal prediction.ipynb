{
 "cells": [
  {
   "cell_type": "code",
   "execution_count": 1,
   "metadata": {},
   "outputs": [],
   "source": [
    "import pandas as pd\n",
    "import numpy as np\n",
    "import xgboost\n",
    "import sklearn\n",
    "#import keras"
   ]
  },
  {
   "cell_type": "code",
   "execution_count": 2,
   "metadata": {},
   "outputs": [],
   "source": [
    "train = pd.read_csv(\"train.csv\")\n",
    "test = pd.read_csv(\"test.csv\")\n",
    "smaple = pd.read_csv(\"sample_submission.csv\")"
   ]
  },
  {
   "cell_type": "code",
   "execution_count": 3,
   "metadata": {},
   "outputs": [],
   "source": [
    "from sklearn.preprocessing import LabelEncoder "
   ]
  },
  {
   "cell_type": "code",
   "execution_count": 4,
   "metadata": {},
   "outputs": [],
   "source": [
    "#insights \n",
    "#data is of 6 years \n",
    "#at total 9 outputs \n",
    "#8 input conditions\n",
    "#4 types of animals"
   ]
  },
  {
   "cell_type": "code",
   "execution_count": 5,
   "metadata": {},
   "outputs": [],
   "source": [
    "#rough model \n",
    "from xgboost import XGBClassifier"
   ]
  },
  {
   "cell_type": "code",
   "execution_count": 6,
   "metadata": {},
   "outputs": [
    {
     "data": {
      "text/plain": [
       "Index(['animal_id_outcome', 'dob_year', 'dob_month', 'age_upon_intake',\n",
       "       'animal_type', 'breed', 'color', 'intake_condition', 'intake_type',\n",
       "       'sex_upon_intake', 'count', 'age_upon_intake_(days)',\n",
       "       'age_upon_intake_(years)', 'age_upon_intake_age_group',\n",
       "       'intake_datetime', 'intake_month', 'intake_year', 'intake_monthyear',\n",
       "       'intake_weekday', 'intake_hour', 'intake_number', 'time_in_shelter',\n",
       "       'time_in_shelter_days', 'age_upon_outcome', 'date_of_birth',\n",
       "       'sex_upon_outcome', 'age_upon_outcome_(days)',\n",
       "       'age_upon_outcome_(years)', 'age_upon_outcome_age_group',\n",
       "       'outcome_datetime', 'outcome_month', 'outcome_year',\n",
       "       'outcome_monthyear', 'outcome_weekday', 'outcome_hour',\n",
       "       'outcome_number', 'outcome_type'],\n",
       "      dtype='object')"
      ]
     },
     "execution_count": 6,
     "metadata": {},
     "output_type": "execute_result"
    }
   ],
   "source": [
    "train.columns"
   ]
  },
  {
   "cell_type": "code",
   "execution_count": 7,
   "metadata": {},
   "outputs": [],
   "source": [
    "def label_encode(arr):\n",
    "    le =LabelEncoder()\n",
    "    le.fit(arr)\n",
    "    return le.transform(arr)"
   ]
  },
  {
   "cell_type": "code",
   "execution_count": 8,
   "metadata": {},
   "outputs": [],
   "source": [
    "def new_make(df):\n",
    "    \n",
    "    age_intake = df[\"age_upon_intake_(years)\"]\n",
    "    type_An = label_encode(df[\"animal_type\"])\n",
    "    breed = label_encode(df[\"breed\"])\n",
    "    color = label_encode(df[\"color\"])\n",
    "    cond = label_encode(df[\"intake_condition\"])\n",
    "    type_in = label_encode(df[\"intake_type\"])\n",
    "    sex_in = label_encode(df[\"sex_upon_intake\"])\n",
    "    sex_out = label_encode(df[\"sex_upon_outcome\"])\n",
    "    age_out = df[\"age_upon_outcome_(years)\"]\n",
    "    out_num = df[\"outcome_number\"]\n",
    "    \n",
    "    #dataframe making \n",
    "    tt = pd.DataFrame({\"a\":age_intake,\"b\":type_An,\"c\":breed,\"d\":color,\"e\":cond,\"f\":type_in,\"g\":sex_in,\"h\":sex_out,\"i\":age_out,\"j\":out_num})\n",
    "    return tt"
   ]
  },
  {
   "cell_type": "code",
   "execution_count": 9,
   "metadata": {},
   "outputs": [],
   "source": [
    "def out_make(df):\n",
    "    y = label_encode(df[\"outcome_type\"])\n",
    "    return y\n",
    "    "
   ]
  },
  {
   "cell_type": "code",
   "execution_count": 10,
   "metadata": {},
   "outputs": [],
   "source": [
    "train[\"sex_upon_intake\"] = train[\"sex_upon_intake\"].fillna(\"Unknown\")\n",
    "train[\"sex_upon_outcome\"]= train[\"sex_upon_outcome\"].fillna(\"Unknown\")"
   ]
  },
  {
   "cell_type": "code",
   "execution_count": 11,
   "metadata": {},
   "outputs": [],
   "source": [
    "x = new_make(train)"
   ]
  },
  {
   "cell_type": "code",
   "execution_count": 12,
   "metadata": {},
   "outputs": [],
   "source": [
    "y = out_make(train)"
   ]
  },
  {
   "cell_type": "code",
   "execution_count": 13,
   "metadata": {},
   "outputs": [],
   "source": [
    "#model = XGBClassifier()\n",
    "#model.fit(x, y)"
   ]
  },
  {
   "cell_type": "code",
   "execution_count": 14,
   "metadata": {},
   "outputs": [],
   "source": [
    "x_test = new_make(test) "
   ]
  },
  {
   "cell_type": "code",
   "execution_count": null,
   "metadata": {},
   "outputs": [
    {
     "name": "stdout",
     "output_type": "stream",
     "text": [
      "Fitting 5 folds for each of 2352 candidates, totalling 11760 fits\n",
      "[CV] colsample_bytree=0.5, max_depth=3, n_estimators=1000, reg_alpha=0.01, subsample=0.4 \n"
     ]
    },
    {
     "name": "stderr",
     "output_type": "stream",
     "text": [
      "[Parallel(n_jobs=1)]: Using backend SequentialBackend with 1 concurrent workers.\n"
     ]
    },
    {
     "name": "stdout",
     "output_type": "stream",
     "text": [
      "[CV]  colsample_bytree=0.5, max_depth=3, n_estimators=1000, reg_alpha=0.01, subsample=0.4, score=0.5254627209034821, total= 4.8min\n",
      "[CV] colsample_bytree=0.5, max_depth=3, n_estimators=1000, reg_alpha=0.01, subsample=0.4 \n"
     ]
    },
    {
     "name": "stderr",
     "output_type": "stream",
     "text": [
      "[Parallel(n_jobs=1)]: Done   1 out of   1 | elapsed:  5.2min remaining:    0.0s\n"
     ]
    },
    {
     "name": "stdout",
     "output_type": "stream",
     "text": [
      "[CV]  colsample_bytree=0.5, max_depth=3, n_estimators=1000, reg_alpha=0.01, subsample=0.4, score=0.5884136777161978, total= 3.3min\n",
      "[CV] colsample_bytree=0.5, max_depth=3, n_estimators=1000, reg_alpha=0.01, subsample=0.4 \n"
     ]
    },
    {
     "name": "stderr",
     "output_type": "stream",
     "text": [
      "[Parallel(n_jobs=1)]: Done   2 out of   2 | elapsed:  8.8min remaining:    0.0s\n"
     ]
    },
    {
     "name": "stdout",
     "output_type": "stream",
     "text": [
      "[CV]  colsample_bytree=0.5, max_depth=3, n_estimators=1000, reg_alpha=0.01, subsample=0.4, score=0.5465383810918218, total= 2.9min\n",
      "[CV] colsample_bytree=0.5, max_depth=3, n_estimators=1000, reg_alpha=0.01, subsample=0.4 \n"
     ]
    },
    {
     "name": "stderr",
     "output_type": "stream",
     "text": [
      "[Parallel(n_jobs=1)]: Done   3 out of   3 | elapsed: 12.1min remaining:    0.0s\n"
     ]
    },
    {
     "name": "stdout",
     "output_type": "stream",
     "text": [
      "[CV]  colsample_bytree=0.5, max_depth=3, n_estimators=1000, reg_alpha=0.01, subsample=0.4, score=0.5792446908672455, total= 3.0min\n",
      "[CV] colsample_bytree=0.5, max_depth=3, n_estimators=1000, reg_alpha=0.01, subsample=0.4 \n"
     ]
    },
    {
     "name": "stderr",
     "output_type": "stream",
     "text": [
      "[Parallel(n_jobs=1)]: Done   4 out of   4 | elapsed: 15.3min remaining:    0.0s\n"
     ]
    },
    {
     "name": "stdout",
     "output_type": "stream",
     "text": [
      "[CV]  colsample_bytree=0.5, max_depth=3, n_estimators=1000, reg_alpha=0.01, subsample=0.4, score=0.5345332775219758, total= 3.0min\n",
      "[CV] colsample_bytree=0.5, max_depth=3, n_estimators=1000, reg_alpha=0.01, subsample=0.5 \n",
      "[CV]  colsample_bytree=0.5, max_depth=3, n_estimators=1000, reg_alpha=0.01, subsample=0.5, score=0.524835302729269, total= 3.1min\n",
      "[CV] colsample_bytree=0.5, max_depth=3, n_estimators=1000, reg_alpha=0.01, subsample=0.5 \n",
      "[CV]  colsample_bytree=0.5, max_depth=3, n_estimators=1000, reg_alpha=0.01, subsample=0.5, score=0.5892502352818153, total= 3.1min\n",
      "[CV] colsample_bytree=0.5, max_depth=3, n_estimators=1000, reg_alpha=0.01, subsample=0.5 \n"
     ]
    }
   ],
   "source": [
    "#xgboost model\n",
    "from sklearn.model_selection import GridSearchCV\n",
    "from sklearn.model_selection import StratifiedKFold\n",
    "from scipy.stats import randint as sp_randint\n",
    "from scipy.stats import uniform as sp_uniform\n",
    "\n",
    "params={\n",
    "    'max_depth': [3,4,5,6,7,8,9],\n",
    "    'subsample': [0.4,0.5,0.6,0.7,0.8,0.9,1.0],\n",
    "    'colsample_bytree': [0.5,0.6,0.7,0.8],\n",
    "    'n_estimators': [1000,2000,3000],\n",
    "    'reg_alpha': [0.01, 0.02, 0.03, 0.04]\n",
    "}\n",
    "\n",
    "xg = XGBClassifier()\n",
    "\n",
    "rs = GridSearchCV(xg,params,cv=5,n_jobs=1,verbose=5)\n",
    "rs.fit(x,y)\n",
    "best_est = rs.best_estimator_\n",
    "print(best_est)"
   ]
  },
  {
   "cell_type": "code",
   "execution_count": 22,
   "metadata": {},
   "outputs": [
    {
     "data": {
      "text/plain": [
       "XGBClassifier(base_score=0.5, booster='gbtree', colsample_bylevel=1,\n",
       "       colsample_bytree=0.5, gamma=0, learning_rate=0.1, max_delta_step=0,\n",
       "       max_depth=5, min_child_weight=1, missing=None, n_estimators=1000,\n",
       "       n_jobs=1, nthread=None, objective='multi:softprob', random_state=0,\n",
       "       reg_alpha=0.02, reg_lambda=1, scale_pos_weight=1, seed=None,\n",
       "       silent=True, subsample=0.5)"
      ]
     },
     "execution_count": 22,
     "metadata": {},
     "output_type": "execute_result"
    }
   ],
   "source": [
    "#y_pred = model.predict(x_test)\n",
    "\n",
    "\n",
    "model = XGBClassifier(max_depth=5,n_estimators=1000,colsample_bytree=0.5,reg_alpha=0.02,subsample=0.5)\n",
    "model.fit(x,y)"
   ]
  },
  {
   "cell_type": "code",
   "execution_count": 23,
   "metadata": {},
   "outputs": [],
   "source": [
    "y_pred = model.predict(x_test)\n",
    "le = LabelEncoder()\n",
    "le.fit(train[\"outcome_type\"])\n",
    "y_pred = le.inverse_transform(y_pred)\n",
    "new_df = pd.DataFrame({\"animal_id_outcome\":test[\"animal_id_outcome\"],\"outcome_type\":y_pred})\n",
    "new_df=new_df.set_index(\"animal_id_outcome\")\n",
    "new_df.to_csv(\"submission_Anubhav_4.csv\")\n",
    "#print(y_pred)"
   ]
  },
  {
   "cell_type": "code",
   "execution_count": 16,
   "metadata": {},
   "outputs": [],
   "source": [
    "#print(y_pred)"
   ]
  },
  {
   "cell_type": "code",
   "execution_count": 17,
   "metadata": {},
   "outputs": [],
   "source": [
    "#new_df.head()"
   ]
  },
  {
   "cell_type": "code",
   "execution_count": 18,
   "metadata": {},
   "outputs": [],
   "source": [
    "#new_df.head()"
   ]
  },
  {
   "cell_type": "code",
   "execution_count": 19,
   "metadata": {},
   "outputs": [],
   "source": [
    "#from sklearn.model_selection import train_test_split"
   ]
  },
  {
   "cell_type": "code",
   "execution_count": 20,
   "metadata": {},
   "outputs": [],
   "source": [
    "#x_train,x_test,y_train,y_test = train_test_split(x,y,test_size=0.30, random_state=42)"
   ]
  },
  {
   "cell_type": "code",
   "execution_count": 24,
   "metadata": {},
   "outputs": [
    {
     "name": "stderr",
     "output_type": "stream",
     "text": [
      "Using TensorFlow backend.\n"
     ]
    }
   ],
   "source": [
    "#from sklearn import svm\n",
    "#clf = svm.SVC()\n",
    "#clf.fit(x,y)\n",
    "\n",
    "\n",
    "\n",
    "\n",
    "from keras import backend as K\n",
    "\n",
    "def f1(y_true, y_pred):\n",
    "    def recall(y_true, y_pred):\n",
    "        \"\"\"Recall metric.\n",
    "\n",
    "        Only computes a batch-wise average of recall.\n",
    "\n",
    "        Computes the recall, a metric for multi-label classification of\n",
    "        how many relevant items are selected.\n",
    "        \"\"\"\n",
    "        true_positives = K.sum(K.round(K.clip(y_true * y_pred, 0, 1)))\n",
    "        possible_positives = K.sum(K.round(K.clip(y_true, 0, 1)))\n",
    "        recall = true_positives / (possible_positives + K.epsilon())\n",
    "        return recall\n",
    "\n",
    "    def precision(y_true, y_pred):\n",
    "        \"\"\"Precision metric.\n",
    "\n",
    "        Only computes a batch-wise average of precision.\n",
    "\n",
    "        Computes the precision, a metric for multi-label classification of\n",
    "        how many selected items are relevant.\n",
    "        \"\"\"\n",
    "        true_positives = K.sum(K.round(K.clip(y_true * y_pred, 0, 1)))\n",
    "        predicted_positives = K.sum(K.round(K.clip(y_pred, 0, 1)))\n",
    "        precision = true_positives / (predicted_positives + K.epsilon())\n",
    "        return precision\n",
    "    precision = precision(y_true, y_pred)\n",
    "    recall = recall(y_true, y_pred)\n",
    "    return 2*((precision*recall)/(precision+recall+K.epsilon()))\n"
   ]
  },
  {
   "cell_type": "code",
   "execution_count": 25,
   "metadata": {},
   "outputs": [],
   "source": [
    "#y_pred = clf.predict(x_test)\n",
    "#le = LabelEncoder()\n",
    "#le.fit(train[\"outcome_type\"])\n",
    "#y_pred = le.inverse_transform(y_pred)\n",
    "x_new = x.values"
   ]
  },
  {
   "cell_type": "code",
   "execution_count": 26,
   "metadata": {},
   "outputs": [],
   "source": [
    "#new_df = pd.DataFrame({\"animal_id_outcome\":test[\"animal_id_outcome\"],\"outcome_type\":y_pred})\n",
    "#new_df=new_df.set_index(\"animal_id_outcome\")\n",
    "#new_df.to_csv(\"submission_Anubhav_2.csv\")"
   ]
  },
  {
   "cell_type": "code",
   "execution_count": 27,
   "metadata": {},
   "outputs": [],
   "source": [
    "from keras.utils import to_categorical\n",
    "y_new = to_categorical(y,num_classes=9)"
   ]
  },
  {
   "cell_type": "code",
   "execution_count": 28,
   "metadata": {},
   "outputs": [],
   "source": [
    "from keras.models import Sequential \n",
    "from keras.layers import Dense,Activation,Dropout"
   ]
  },
  {
   "cell_type": "code",
   "execution_count": 29,
   "metadata": {},
   "outputs": [],
   "source": [
    "model = Sequential()\n",
    "model.add(Dense(128, input_shape=(10,)))\n",
    "model.add(Activation('relu'))\n",
    "model.add(Dense(64))\n",
    "model.add(Activation('relu'))\n",
    "model.add(Dense(32))\n",
    "model.add(Activation('relu'))\n",
    "model.add(Dense(9))\n",
    "model.add(Activation('softmax'))"
   ]
  },
  {
   "cell_type": "code",
   "execution_count": 30,
   "metadata": {},
   "outputs": [
    {
     "name": "stdout",
     "output_type": "stream",
     "text": [
      "_________________________________________________________________\n",
      "Layer (type)                 Output Shape              Param #   \n",
      "=================================================================\n",
      "dense_1 (Dense)              (None, 128)               1408      \n",
      "_________________________________________________________________\n",
      "activation_1 (Activation)    (None, 128)               0         \n",
      "_________________________________________________________________\n",
      "dense_2 (Dense)              (None, 64)                8256      \n",
      "_________________________________________________________________\n",
      "activation_2 (Activation)    (None, 64)                0         \n",
      "_________________________________________________________________\n",
      "dense_3 (Dense)              (None, 32)                2080      \n",
      "_________________________________________________________________\n",
      "activation_3 (Activation)    (None, 32)                0         \n",
      "_________________________________________________________________\n",
      "dense_4 (Dense)              (None, 9)                 297       \n",
      "_________________________________________________________________\n",
      "activation_4 (Activation)    (None, 9)                 0         \n",
      "=================================================================\n",
      "Total params: 12,041\n",
      "Trainable params: 12,041\n",
      "Non-trainable params: 0\n",
      "_________________________________________________________________\n"
     ]
    }
   ],
   "source": [
    "model.summary()"
   ]
  },
  {
   "cell_type": "code",
   "execution_count": 31,
   "metadata": {},
   "outputs": [],
   "source": [
    "model.compile(optimizer='adam',\n",
    "              loss='categorical_crossentropy',\n",
    "              metrics=['accuracy',f1])"
   ]
  },
  {
   "cell_type": "code",
   "execution_count": 34,
   "metadata": {},
   "outputs": [
    {
     "name": "stdout",
     "output_type": "stream",
     "text": [
      "Epoch 1/50\n",
      "47803/47803 [==============================] - 5s 106us/step - loss: 1.4265 - acc: 0.5395 - f1: 0.4627\n",
      "Epoch 2/50\n",
      "47803/47803 [==============================] - 4s 94us/step - loss: 1.4225 - acc: 0.5420 - f1: 0.4649\n",
      "Epoch 3/50\n",
      "47803/47803 [==============================] - 5s 99us/step - loss: 1.4239 - acc: 0.5401 - f1: 0.4630\n",
      "Epoch 4/50\n",
      "47803/47803 [==============================] - 4s 88us/step - loss: 1.4244 - acc: 0.5422 - f1: 0.4618\n",
      "Epoch 5/50\n",
      "47803/47803 [==============================] - 4s 85us/step - loss: 1.4192 - acc: 0.5425 - f1: 0.4674\n",
      "Epoch 6/50\n",
      "47803/47803 [==============================] - 5s 102us/step - loss: 1.4247 - acc: 0.5415 - f1: 0.4652\n",
      "Epoch 7/50\n",
      "47803/47803 [==============================] - 5s 98us/step - loss: 1.4214 - acc: 0.5420 - f1: 0.4652\n",
      "Epoch 8/50\n",
      "47803/47803 [==============================] - 5s 102us/step - loss: 1.4194 - acc: 0.5423 - f1: 0.4658\n",
      "Epoch 9/50\n",
      "47803/47803 [==============================] - 5s 95us/step - loss: 1.4215 - acc: 0.5412 - f1: 0.4637\n",
      "Epoch 10/50\n",
      "47803/47803 [==============================] - 5s 96us/step - loss: 1.4195 - acc: 0.5427 - f1: 0.4646\n",
      "Epoch 11/50\n",
      "47803/47803 [==============================] - 4s 81us/step - loss: 1.4216 - acc: 0.5424 - f1: 0.4633\n",
      "Epoch 12/50\n",
      "47803/47803 [==============================] - 4s 88us/step - loss: 1.4238 - acc: 0.5408 - f1: 0.4625\n",
      "Epoch 13/50\n",
      "47803/47803 [==============================] - 5s 106us/step - loss: 1.4209 - acc: 0.5418 - f1: 0.4629\n",
      "Epoch 14/50\n",
      "47803/47803 [==============================] - 5s 106us/step - loss: 1.4198 - acc: 0.5434 - f1: 0.4636\n",
      "Epoch 15/50\n",
      "47803/47803 [==============================] - 4s 88us/step - loss: 1.4204 - acc: 0.5434 - f1: 0.4639\n",
      "Epoch 16/50\n",
      "47803/47803 [==============================] - 5s 95us/step - loss: 1.4228 - acc: 0.5428 - f1: 0.4608\n",
      "Epoch 17/50\n",
      "47803/47803 [==============================] - 4s 92us/step - loss: 1.4185 - acc: 0.5427 - f1: 0.4677\n",
      "Epoch 18/50\n",
      "47803/47803 [==============================] - 5s 107us/step - loss: 1.4151 - acc: 0.5432 - f1: 0.4688\n",
      "Epoch 19/50\n",
      "47803/47803 [==============================] - 5s 107us/step - loss: 1.4187 - acc: 0.5415 - f1: 0.4663\n",
      "Epoch 20/50\n",
      "47803/47803 [==============================] - 5s 106us/step - loss: 1.4158 - acc: 0.5433 - f1: 0.4673\n",
      "Epoch 21/50\n",
      "47803/47803 [==============================] - 5s 105us/step - loss: 1.4164 - acc: 0.5432 - f1: 0.4643\n",
      "Epoch 22/50\n",
      "47803/47803 [==============================] - 4s 89us/step - loss: 1.4204 - acc: 0.5421 - f1: 0.4624\n",
      "Epoch 23/50\n",
      "47803/47803 [==============================] - 4s 89us/step - loss: 1.4168 - acc: 0.5431 - f1: 0.4650\n",
      "Epoch 24/50\n",
      "47803/47803 [==============================] - 4s 93us/step - loss: 1.4147 - acc: 0.5442 - f1: 0.4681\n",
      "Epoch 25/50\n",
      "47803/47803 [==============================] - 4s 90us/step - loss: 1.4186 - acc: 0.5436 - f1: 0.4639\n",
      "Epoch 26/50\n",
      "47803/47803 [==============================] - 4s 86us/step - loss: 1.4139 - acc: 0.5440 - f1: 0.4664\n",
      "Epoch 27/50\n",
      "47803/47803 [==============================] - 5s 106us/step - loss: 1.4189 - acc: 0.5428 - f1: 0.4636\n",
      "Epoch 28/50\n",
      "47803/47803 [==============================] - 5s 108us/step - loss: 1.4170 - acc: 0.5438 - f1: 0.4645\n",
      "Epoch 29/50\n",
      "47803/47803 [==============================] - 5s 100us/step - loss: 1.4126 - acc: 0.5443 - f1: 0.4682\n",
      "Epoch 30/50\n",
      "47803/47803 [==============================] - 5s 107us/step - loss: 1.4137 - acc: 0.5453 - f1: 0.4684\n",
      "Epoch 31/50\n",
      "47803/47803 [==============================] - 5s 106us/step - loss: 1.4147 - acc: 0.5439 - f1: 0.4649\n",
      "Epoch 32/50\n",
      "47803/47803 [==============================] - 5s 107us/step - loss: 1.4137 - acc: 0.5450 - f1: 0.4672\n",
      "Epoch 33/50\n",
      "47803/47803 [==============================] - 5s 107us/step - loss: 1.4129 - acc: 0.5457 - f1: 0.4666\n",
      "Epoch 34/50\n",
      "47803/47803 [==============================] - 5s 107us/step - loss: 1.4112 - acc: 0.5452 - f1: 0.4696\n",
      "Epoch 35/50\n",
      "47803/47803 [==============================] - 5s 107us/step - loss: 1.4141 - acc: 0.5436 - f1: 0.4658\n",
      "Epoch 36/50\n",
      "47803/47803 [==============================] - 5s 108us/step - loss: 1.4126 - acc: 0.5426 - f1: 0.4679\n",
      "Epoch 37/50\n",
      "47803/47803 [==============================] - 5s 107us/step - loss: 1.4100 - acc: 0.5461 - f1: 0.4685\n",
      "Epoch 38/50\n",
      "47803/47803 [==============================] - 5s 107us/step - loss: 1.4121 - acc: 0.5456 - f1: 0.4673\n",
      "Epoch 39/50\n",
      "47803/47803 [==============================] - 5s 106us/step - loss: 1.4115 - acc: 0.5458 - f1: 0.4696\n",
      "Epoch 40/50\n",
      "47803/47803 [==============================] - 5s 109us/step - loss: 1.4123 - acc: 0.5446 - f1: 0.4674\n",
      "Epoch 41/50\n",
      "47803/47803 [==============================] - 5s 108us/step - loss: 1.4119 - acc: 0.5448 - f1: 0.4690\n",
      "Epoch 42/50\n",
      "47803/47803 [==============================] - 4s 83us/step - loss: 1.4126 - acc: 0.5445 - f1: 0.4678\n",
      "Epoch 43/50\n",
      "47803/47803 [==============================] - 4s 81us/step - loss: 1.4092 - acc: 0.5461 - f1: 0.4701\n",
      "Epoch 44/50\n",
      "47803/47803 [==============================] - 4s 85us/step - loss: 1.4113 - acc: 0.5463 - f1: 0.4694\n",
      "Epoch 45/50\n",
      "47803/47803 [==============================] - 4s 86us/step - loss: 1.4106 - acc: 0.5464 - f1: 0.4695\n",
      "Epoch 46/50\n",
      "47803/47803 [==============================] - 5s 104us/step - loss: 1.4101 - acc: 0.5450 - f1: 0.4685\n",
      "Epoch 47/50\n",
      "47803/47803 [==============================] - 5s 114us/step - loss: 1.4116 - acc: 0.5447 - f1: 0.4680\n",
      "Epoch 48/50\n",
      "47803/47803 [==============================] - 5s 114us/step - loss: 1.4134 - acc: 0.5447 - f1: 0.4673\n",
      "Epoch 49/50\n",
      "47803/47803 [==============================] - 5s 113us/step - loss: 1.4081 - acc: 0.5479 - f1: 0.4731\n",
      "Epoch 50/50\n",
      "47803/47803 [==============================] - 5s 110us/step - loss: 1.4086 - acc: 0.5465 - f1: 0.4716\n"
     ]
    },
    {
     "data": {
      "text/plain": [
       "<keras.callbacks.History at 0x124db240fd0>"
      ]
     },
     "execution_count": 34,
     "metadata": {},
     "output_type": "execute_result"
    }
   ],
   "source": [
    "model.fit(x_new,y_new,epochs=50)"
   ]
  },
  {
   "cell_type": "code",
   "execution_count": 36,
   "metadata": {},
   "outputs": [],
   "source": [
    "y_pred = model.predict(x_test)"
   ]
  },
  {
   "cell_type": "code",
   "execution_count": 38,
   "metadata": {},
   "outputs": [],
   "source": [
    "y_pred = y_pred.astype('int32')"
   ]
  },
  {
   "cell_type": "code",
   "execution_count": 42,
   "metadata": {},
   "outputs": [],
   "source": [
    "y_pred = np.argmax(y_pred,axis=-1)"
   ]
  },
  {
   "cell_type": "code",
   "execution_count": 45,
   "metadata": {},
   "outputs": [],
   "source": [
    "le = LabelEncoder()\n",
    "le.fit(train[\"outcome_type\"])\n",
    "y_pred = le.inverse_transform(y_pred)\n",
    "new_df = pd.DataFrame({\"animal_id_outcome\":test[\"animal_id_outcome\"],\"outcome_type\":y_pred})\n",
    "new_df=new_df.set_index(\"animal_id_outcome\")\n",
    "new_df.to_csv(\"submission_Anubhav_5.csv\")"
   ]
  },
  {
   "cell_type": "code",
   "execution_count": 52,
   "metadata": {},
   "outputs": [],
   "source": [
    "from sklearn.ensemble import RandomForestClassifier,AdaBoostClassifier"
   ]
  },
  {
   "cell_type": "code",
   "execution_count": 47,
   "metadata": {},
   "outputs": [],
   "source": [
    "clf = RandomForestClassifier()"
   ]
  },
  {
   "cell_type": "code",
   "execution_count": 48,
   "metadata": {},
   "outputs": [
    {
     "name": "stderr",
     "output_type": "stream",
     "text": [
      "c:\\users\\anubh\\appdata\\local\\programs\\python\\python36\\lib\\site-packages\\sklearn\\ensemble\\forest.py:246: FutureWarning: The default value of n_estimators will change from 10 in version 0.20 to 100 in 0.22.\n",
      "  \"10 in version 0.20 to 100 in 0.22.\", FutureWarning)\n"
     ]
    },
    {
     "data": {
      "text/plain": [
       "RandomForestClassifier(bootstrap=True, class_weight=None, criterion='gini',\n",
       "            max_depth=None, max_features='auto', max_leaf_nodes=None,\n",
       "            min_impurity_decrease=0.0, min_impurity_split=None,\n",
       "            min_samples_leaf=1, min_samples_split=2,\n",
       "            min_weight_fraction_leaf=0.0, n_estimators=10, n_jobs=None,\n",
       "            oob_score=False, random_state=None, verbose=0,\n",
       "            warm_start=False)"
      ]
     },
     "execution_count": 48,
     "metadata": {},
     "output_type": "execute_result"
    }
   ],
   "source": [
    "clf.fit(x,y)"
   ]
  },
  {
   "cell_type": "code",
   "execution_count": 49,
   "metadata": {},
   "outputs": [],
   "source": [
    "y_pred = clf.predict(x_test)"
   ]
  },
  {
   "cell_type": "code",
   "execution_count": 50,
   "metadata": {},
   "outputs": [],
   "source": [
    "le = LabelEncoder()\n",
    "le.fit(train[\"outcome_type\"])\n",
    "y_pred = le.inverse_transform(y_pred)\n",
    "new_df = pd.DataFrame({\"animal_id_outcome\":test[\"animal_id_outcome\"],\"outcome_type\":y_pred})\n",
    "new_df=new_df.set_index(\"animal_id_outcome\")\n",
    "new_df.to_csv(\"submission_Anubhav_6.csv\")"
   ]
  },
  {
   "cell_type": "code",
   "execution_count": 53,
   "metadata": {},
   "outputs": [],
   "source": [
    "clf = AdaBoostClassifier()\n",
    "clf.fit(x,y)\n",
    "y_pred = clf.predict(x_test)"
   ]
  },
  {
   "cell_type": "code",
   "execution_count": 54,
   "metadata": {},
   "outputs": [],
   "source": [
    "le = LabelEncoder()\n",
    "le.fit(train[\"outcome_type\"])\n",
    "y_pred = le.inverse_transform(y_pred)\n",
    "new_df = pd.DataFrame({\"animal_id_outcome\":test[\"animal_id_outcome\"],\"outcome_type\":y_pred})\n",
    "new_df=new_df.set_index(\"animal_id_outcome\")\n",
    "new_df.to_csv(\"submission_Anubhav_7.csv\")"
   ]
  },
  {
   "cell_type": "code",
   "execution_count": null,
   "metadata": {},
   "outputs": [],
   "source": []
  }
 ],
 "metadata": {
  "kernelspec": {
   "display_name": "Python 3",
   "language": "python",
   "name": "python3"
  },
  "language_info": {
   "codemirror_mode": {
    "name": "ipython",
    "version": 3
   },
   "file_extension": ".py",
   "mimetype": "text/x-python",
   "name": "python",
   "nbconvert_exporter": "python",
   "pygments_lexer": "ipython3",
   "version": "3.6.8"
  }
 },
 "nbformat": 4,
 "nbformat_minor": 2
}
